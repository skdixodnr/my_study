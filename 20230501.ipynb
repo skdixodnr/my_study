{
  "nbformat": 4,
  "nbformat_minor": 0,
  "metadata": {
    "colab": {
      "provenance": [],
      "authorship_tag": "ABX9TyOIY30gqyxHI2vvDV0FPOmT",
      "include_colab_link": true
    },
    "kernelspec": {
      "name": "python3",
      "display_name": "Python 3"
    },
    "language_info": {
      "name": "python"
    }
  },
  "cells": [
    {
      "cell_type": "markdown",
      "metadata": {
        "id": "view-in-github",
        "colab_type": "text"
      },
      "source": [
        "<a href=\"https://colab.research.google.com/github/skdixodnr/my_study/blob/main/20230501.ipynb\" target=\"_parent\"><img src=\"https://colab.research.google.com/assets/colab-badge.svg\" alt=\"Open In Colab\"/></a>"
      ]
    },
    {
      "cell_type": "code",
      "source": [
        "# a = [5,4,3,2,1]\n",
        "# b=a[:]\n",
        "# print(id(a),id(b))\n",
        "\n",
        "# a.sort()\n",
        "\n",
        "\n"
      ],
      "metadata": {
        "colab": {
          "base_uri": "https://localhost:8080/"
        },
        "id": "UpyRogUqRj_S",
        "outputId": "cea3f104-d9f6-4cd9-c769-8f49801e7ddb"
      },
      "execution_count": null,
      "outputs": [
        {
          "output_type": "stream",
          "name": "stdout",
          "text": [
            "[5, 4, 3, 2, 1]\n"
          ]
        }
      ]
    },
    {
      "cell_type": "code",
      "source": [
        "a = [[1, 2], [3, 4]]\n",
        "b=a[:]\n",
        "\n",
        "a[0][1] = 100\n",
        "\n",
        "print(a)\n",
        "print(b)"
      ],
      "metadata": {
        "colab": {
          "base_uri": "https://localhost:8080/"
        },
        "id": "JJKpv8k7VS1S",
        "outputId": "017b6a8e-9334-45b8-9ee8-673dea6601cf"
      },
      "execution_count": null,
      "outputs": [
        {
          "output_type": "stream",
          "name": "stdout",
          "text": [
            "[[1, 100], [3, 4]]\n",
            "[[1, 100], [3, 4]]\n"
          ]
        }
      ]
    },
    {
      "cell_type": "code",
      "source": [
        "# 3 & 4  & : 논리연산자가 X -> 비트연산자.\n",
        "# 0011 & 0100 -> 0000"
      ],
      "metadata": {
        "id": "xHuNGDNZVPpT"
      },
      "execution_count": null,
      "outputs": []
    },
    {
      "cell_type": "code",
      "source": [
        "3 or 4"
      ],
      "metadata": {
        "colab": {
          "base_uri": "https://localhost:8080/"
        },
        "id": "G-8PkIKfYsCw",
        "outputId": "2ae64541-f6c0-4a14-e531-e94bc6782e19"
      },
      "execution_count": null,
      "outputs": [
        {
          "output_type": "execute_result",
          "data": {
            "text/plain": [
              "3"
            ]
          },
          "metadata": {},
          "execution_count": 4
        }
      ]
    },
    {
      "cell_type": "code",
      "source": [
        "3 | 4"
      ],
      "metadata": {
        "colab": {
          "base_uri": "https://localhost:8080/"
        },
        "id": "Q_a7Qo3RYyAH",
        "outputId": "169a230e-33c1-48c9-a7d8-fd372e8b4b94"
      },
      "execution_count": null,
      "outputs": [
        {
          "output_type": "execute_result",
          "data": {
            "text/plain": [
              "7"
            ]
          },
          "metadata": {},
          "execution_count": 7
        }
      ]
    },
    {
      "cell_type": "code",
      "source": [
        "1 == 2"
      ],
      "metadata": {
        "colab": {
          "base_uri": "https://localhost:8080/"
        },
        "id": "dPgpnLZFY8be",
        "outputId": "a1972f44-73e6-4686-e192-157b2df0f1f8"
      },
      "execution_count": null,
      "outputs": [
        {
          "output_type": "execute_result",
          "data": {
            "text/plain": [
              "False"
            ]
          },
          "metadata": {},
          "execution_count": 10
        }
      ]
    },
    {
      "cell_type": "code",
      "source": [
        "a=10\n",
        "b=10\n",
        "a== b\n",
        "print(a==b)"
      ],
      "metadata": {
        "colab": {
          "base_uri": "https://localhost:8080/"
        },
        "id": "jeepAD1NZUMU",
        "outputId": "c229fa44-cb49-4a16-9c0d-ae81770eea30"
      },
      "execution_count": null,
      "outputs": [
        {
          "output_type": "stream",
          "name": "stdout",
          "text": [
            "True\n"
          ]
        }
      ]
    },
    {
      "cell_type": "code",
      "source": [
        "a=100\n",
        "\n",
        "if a> 0 and (a%2)==0:\n",
        "    print('a is even')"
      ],
      "metadata": {
        "colab": {
          "base_uri": "https://localhost:8080/"
        },
        "id": "EqNt9swtcTBs",
        "outputId": "3704d3e0-19f2-4732-b517-54e27c522f8a"
      },
      "execution_count": null,
      "outputs": [
        {
          "output_type": "stream",
          "name": "stdout",
          "text": [
            "a is even\n"
          ]
        }
      ]
    },
    {
      "cell_type": "code",
      "source": [
        "a = 34\n",
        "b = 4\n",
        "if a % b > 3:\n",
        "  print(\"실패\")\n",
        "elif a % b ==3:\n",
        "  print('무승부')\n",
        "else:\n",
        "  print('성공')"
      ],
      "metadata": {
        "colab": {
          "base_uri": "https://localhost:8080/"
        },
        "id": "CgKlHpclcjEt",
        "outputId": "a82438ff-bcb3-4e5e-d51e-c67adb887c69"
      },
      "execution_count": null,
      "outputs": [
        {
          "output_type": "stream",
          "name": "stdout",
          "text": [
            "성공\n"
          ]
        }
      ]
    },
    {
      "cell_type": "code",
      "source": [
        "birth_year = int(input(\"당신이 태어난 년도를 입력하세요. : \"))\n",
        "\n",
        "age = 2023 - birth_year+1\n",
        "\n",
        "message = \"\"\n",
        "if 20<=age and age <=26:\n",
        "  message=\"대학생\"\n",
        "elif 17<=age and age<20:\n",
        "  message=\"고등학생\"\n",
        "elif 14<=age and age<17:\n",
        "  message=\"중학생\"\n",
        "elif 8 <=age and age<14:\n",
        "  message=\"초등학생\"\n",
        "else:\n",
        "  print('message')\n",
        "print(message)"
      ],
      "metadata": {
        "colab": {
          "base_uri": "https://localhost:8080/"
        },
        "id": "qLlXPSYefM6B",
        "outputId": "396d00a8-1fea-49bd-b53c-243e3ef1428c"
      },
      "execution_count": null,
      "outputs": [
        {
          "output_type": "stream",
          "name": "stdout",
          "text": [
            "당신이 태어난 년도를 입력하세요. : 1998\n",
            "대학생\n"
          ]
        }
      ]
    },
    {
      "cell_type": "code",
      "source": [
        "num = int(input(\"숫자를 입력하세요. : \"))\n",
        "if num %2==0:\n",
        "  if num %3==0:\n",
        "    print(\"2와 3으로 나누어 집니다.\")\n",
        "  else:\n",
        "    print(\"2로 나누어 집니다.\")\n",
        "elif num %3==0:\n",
        "  print(\"3으로 나누어 집니다.\")\n",
        "else:\n",
        "  print(\"어느 것으로도 나누어지지 않습니다.\")"
      ],
      "metadata": {
        "colab": {
          "base_uri": "https://localhost:8080/"
        },
        "id": "N00JeS_UhWzx",
        "outputId": "f2c11700-28c7-4417-bcec-abfcfdf00db0"
      },
      "execution_count": null,
      "outputs": [
        {
          "output_type": "stream",
          "name": "stdout",
          "text": [
            "숫자를 입력하세요. : 657\n",
            "3으로 나누어 집니다.\n"
          ]
        }
      ]
    },
    {
      "cell_type": "code",
      "source": [
        "# 변수의 범위 지정하기\n",
        "# 숫자로 범위주기:range()\n",
        "# 5에서부터 0까지 카운트다운\n",
        "for count in range (5, -1, -1):\n",
        "  print(count)\n"
      ],
      "metadata": {
        "colab": {
          "base_uri": "https://localhost:8080/"
        },
        "id": "C8f_VjNB2i3i",
        "outputId": "3fd5ee90-09a8-418d-ac6c-44a8e0e2540c"
      },
      "execution_count": null,
      "outputs": [
        {
          "output_type": "stream",
          "name": "stdout",
          "text": [
            "5\n",
            "4\n",
            "3\n",
            "2\n",
            "1\n",
            "0\n"
          ]
        }
      ]
    },
    {
      "cell_type": "code",
      "source": [
        "# 1부터 10까지 합을 구하시오.\n",
        "sum = 0\n",
        "for i in range(1,11):\n",
        "  sum = sum+i\n",
        "print(sum)"
      ],
      "metadata": {
        "colab": {
          "base_uri": "https://localhost:8080/"
        },
        "id": "ikIf827457_q",
        "outputId": "2ac4e27e-d920-461a-8c64-b0a6909af834"
      },
      "execution_count": null,
      "outputs": [
        {
          "output_type": "stream",
          "name": "stdout",
          "text": [
            "55\n"
          ]
        }
      ]
    },
    {
      "cell_type": "code",
      "source": [
        "# def print_stars(n):\n",
        "#   for i in range(n):\n",
        "#     print(\" \" * i + \"*\" * n)\n",
        "\n",
        "# print_stars(5)\n",
        "\n",
        "n = int(input(\"n:\"))\n",
        "for i in range(n):\n",
        "    print(' '*i,end='') #end의 역할 sep와 비슷한 기능(구분자 사용) \n",
        "    print('*'*n)\n"
      ],
      "metadata": {
        "colab": {
          "base_uri": "https://localhost:8080/"
        },
        "id": "fLZr_IVM7PNe",
        "outputId": "53837ecf-6ebd-49b8-a197-b96415a5667c"
      },
      "execution_count": null,
      "outputs": [
        {
          "output_type": "stream",
          "name": "stdout",
          "text": [
            "n:5\n",
            "*****\n",
            " *****\n",
            "  *****\n",
            "   *****\n",
            "    *****\n"
          ]
        }
      ]
    },
    {
      "cell_type": "code",
      "source": [
        "# n = int(input(\"n:\"))\n",
        "# for i in range(1,n+1):\n",
        "#   print(\"*\"*i)"
      ],
      "metadata": {
        "colab": {
          "base_uri": "https://localhost:8080/"
        },
        "id": "7GMwgjRMAzDl",
        "outputId": "92c2f336-df53-4c8a-f30c-c97918eac942"
      },
      "execution_count": null,
      "outputs": [
        {
          "output_type": "stream",
          "name": "stdout",
          "text": [
            "n:5\n",
            "*\n",
            "**\n",
            "***\n",
            "****\n",
            "*****\n"
          ]
        }
      ]
    },
    {
      "cell_type": "code",
      "source": [
        "# n = int(input(\"n:\"))\n",
        "# for i in range(1,n+1):\n",
        "#   print(\" \"*(n-i), end=\"\")\n",
        "#   print(\"*\"*i)"
      ],
      "metadata": {
        "colab": {
          "base_uri": "https://localhost:8080/"
        },
        "id": "Jp51QHvqBcVF",
        "outputId": "e8f9c3dd-4255-492e-d238-bea21639f1af"
      },
      "execution_count": null,
      "outputs": [
        {
          "output_type": "stream",
          "name": "stdout",
          "text": [
            "n:5\n",
            "    *\n",
            "   **\n",
            "  ***\n",
            " ****\n",
            "*****\n"
          ]
        }
      ]
    },
    {
      "cell_type": "code",
      "source": [
        "# n = int(input('n:'))\n",
        "# for i in range(n):\n",
        "#   print(\"*\"*(n-i))"
      ],
      "metadata": {
        "colab": {
          "base_uri": "https://localhost:8080/"
        },
        "id": "ra_kEhPqCV4C",
        "outputId": "ff94e5f4-5fdb-42c8-aca0-34f2e36d12f2"
      },
      "execution_count": null,
      "outputs": [
        {
          "output_type": "stream",
          "name": "stdout",
          "text": [
            "n:5\n",
            "*****\n",
            "****\n",
            "***\n",
            "**\n",
            "*\n"
          ]
        }
      ]
    },
    {
      "cell_type": "code",
      "source": [
        "# n = int(input('n:'))\n",
        "# for i in range(n):\n",
        "#   print(\" \"*i,end=\"\")\n",
        "#   print(\"*\"*(n-i))"
      ],
      "metadata": {
        "colab": {
          "base_uri": "https://localhost:8080/"
        },
        "id": "Ntkz--7sCYcH",
        "outputId": "f241eaad-5bae-486c-f2e6-9baaf638de8f"
      },
      "execution_count": null,
      "outputs": [
        {
          "output_type": "stream",
          "name": "stdout",
          "text": [
            "n:5\n",
            "*****\n",
            " ****\n",
            "  ***\n",
            "   **\n",
            "    *\n"
          ]
        }
      ]
    },
    {
      "cell_type": "markdown",
      "source": [
        "(4) 피라미드"
      ],
      "metadata": {
        "id": "pX_k1wBTC6fr"
      }
    },
    {
      "cell_type": "code",
      "source": [],
      "metadata": {
        "id": "JCD6Tx2LW7kM"
      },
      "execution_count": null,
      "outputs": []
    },
    {
      "cell_type": "code",
      "source": [
        "# n = int(input('n:'))\n",
        "# for i in range(1,n+1):\n",
        "#   print(\" \"*(n-i),end=\"\")\n",
        "#   print(\"*\"*(2*i-1))"
      ],
      "metadata": {
        "colab": {
          "base_uri": "https://localhost:8080/"
        },
        "id": "Y9BYBSRvCYi6",
        "outputId": "0735c4cd-3f78-46db-a6d9-bcd5c8eab11e"
      },
      "execution_count": null,
      "outputs": [
        {
          "output_type": "stream",
          "name": "stdout",
          "text": [
            "n:5\n",
            "    *\n",
            "   ***\n",
            "  *****\n",
            " *******\n",
            "*********\n"
          ]
        }
      ]
    },
    {
      "cell_type": "markdown",
      "source": [
        "## x = [3,6,9,20,-7,5]의 값의 모든 요소에 10을 곱한뒤 출력하세요.\n",
        "### 심화 : 출력과 리스트x의 값에도 모두 10을 곱해주세요."
      ],
      "metadata": {
        "id": "8OqeEPUDFHTp"
      }
    },
    {
      "cell_type": "code",
      "source": [
        "x = [3,6,9,20,-7,5]\n",
        "for i in x:\n",
        "  print(i*10)\n",
        "\n",
        "# # 심화\n",
        "# for i in range(0,len(x)):\n",
        "#   x[i] = x[i]*10\n",
        "\n",
        "# print(x)"
      ],
      "metadata": {
        "colab": {
          "base_uri": "https://localhost:8080/"
        },
        "id": "4PGD3-_ZCYni",
        "outputId": "4f395625-1500-417d-b0c2-a57640ddd185"
      },
      "execution_count": null,
      "outputs": [
        {
          "output_type": "stream",
          "name": "stdout",
          "text": [
            "30\n",
            "60\n",
            "90\n",
            "200\n",
            "-70\n",
            "50\n"
          ]
        }
      ]
    },
    {
      "cell_type": "markdown",
      "source": [
        "## y = {\"math\":70,\"scince\":80,\"english\":20}의 값의 모든 요소에 10을 더한뒤 출력하세요\n",
        "### 심화: 출력과 딕셔너리 y의 값에도 모두 10을 더해주세요."
      ],
      "metadata": {
        "id": "W1Q8eI6iFFrk"
      }
    },
    {
      "cell_type": "code",
      "source": [
        "# y = {\"maath\":70 , \"science\":80, \"english\":20}\n",
        "\n",
        "# # 심화\n",
        "# for key in y:\n",
        "#   val = y[key]\n",
        "#   y[key] = y[key]+10\n",
        "#   print(\"%s : %d\" % (key,val+10))"
      ],
      "metadata": {
        "colab": {
          "base_uri": "https://localhost:8080/"
        },
        "id": "wyK4pc8YHDYZ",
        "outputId": "ca7169fe-92c2-42a2-f374-4daec4fb1459"
      },
      "execution_count": null,
      "outputs": [
        {
          "output_type": "stream",
          "name": "stdout",
          "text": [
            "maath : 80\n",
            "science : 90\n",
            "english : 30\n"
          ]
        }
      ]
    },
    {
      "cell_type": "markdown",
      "source": [
        "1 ~ 100 임의의 숫자를 맞추시오."
      ],
      "metadata": {
        "id": "2jXJZ4GsIB16"
      }
    },
    {
      "cell_type": "code",
      "source": [
        "# import random\n",
        "\n",
        "# true_value = random.randint(1,100)\n",
        "# input_value=99999 # 임의의 값 할당.\n",
        "# while True:\n",
        "#   input_value = int(input(\"숫자를 맞춰보세요. : \"))\n",
        "#   if true_value < input_value:\n",
        "#     print(\"숫자가 너무 큽니다.\")\n",
        "#   elif true_value > input_value:\n",
        "#     print(\"숫자가 너무 작습니다.\")\n",
        "#   else:\n",
        "#     print(\"정답입니다.입력한 숫자는 %d입니다\" % true_value)\n",
        "#     break\n",
        "\n",
        "# print('숫자를 맞춰보세요.')\n",
        "\n",
        "# while true_value !=input_value:\n",
        "#   input_value = int(input())\n",
        "\n",
        "#   if input_value>true_value:\n",
        "#     print('숫자가 너무 큽니다.')\n",
        "#   else:\n",
        "#     print('숫자가 너무 작습니다.')\n",
        "# print(f'정답입니다.입력한 숫자는 {true_value}입니다.')"
      ],
      "metadata": {
        "colab": {
          "base_uri": "https://localhost:8080/"
        },
        "id": "Gz2FrZblHD4v",
        "outputId": "803db71d-576a-498b-ef2b-6c1c1c9560d0"
      },
      "execution_count": null,
      "outputs": [
        {
          "output_type": "stream",
          "name": "stdout",
          "text": [
            "숫자를 맞춰보세요. : 80\n",
            "숫자가 너무 큽니다.\n",
            "숫자를 맞춰보세요. : 40\n",
            "숫자가 너무 작습니다.\n",
            "숫자를 맞춰보세요. : 60\n",
            "숫자가 너무 작습니다.\n",
            "숫자를 맞춰보세요. : 70\n",
            "숫자가 너무 작습니다.\n",
            "숫자를 맞춰보세요. : 75\n",
            "숫자가 너무 큽니다.\n",
            "숫자를 맞춰보세요. : 72\n",
            "숫자가 너무 작습니다.\n",
            "숫자를 맞춰보세요. : 73\n",
            "정답입니다.입력한 숫자는 73입니다\n"
          ]
        }
      ]
    },
    {
      "cell_type": "markdown",
      "source": [
        "word = [\"school\",\"game\",\"piano\",\"science\",\"hotel\",\"mountain\"]중 글자수가 6글자 이상인 문자를 모아 새로운 리스트를 생성하세요."
      ],
      "metadata": {
        "id": "dbbC4jcYOdgr"
      }
    },
    {
      "cell_type": "code",
      "source": [
        "# word = [\"school\",\"game\",\"piano\",\"science\",\"hotel\",\"mountain\"]\n",
        "# a = list()\n",
        "# for i in range(len(word)):\n",
        "#   if len(word[i])>=6:\n",
        "#     a.append(word[i])\n",
        "# print(a)"
      ],
      "metadata": {
        "colab": {
          "base_uri": "https://localhost:8080/"
        },
        "id": "YMTH_IsmHEBl",
        "outputId": "8a55544e-45c2-463b-ff59-4c2528e43bf9"
      },
      "execution_count": null,
      "outputs": [
        {
          "output_type": "stream",
          "name": "stdout",
          "text": [
            "['school', 'science', 'mountain']\n"
          ]
        }
      ]
    },
    {
      "cell_type": "markdown",
      "source": [
        "- 1~100까지 숫자중 3과 5의 공배수일경우\"3과 5의 공배수\"\n",
        "- 나머지 숫자중 3의 배수일 경우\"3의 배수\"\n",
        "- 나머지 숫자중 5의 배수일 경우\"5의 배수\"\n",
        "- 모두 해당되지 않을경우 그냥 숫자를 출력하세요"
      ],
      "metadata": {
        "id": "js_d2CKoRJkb"
      }
    },
    {
      "cell_type": "code",
      "source": [
        "num = int(input(\"숫자를 입력하세요. : \"))\n",
        "a=num%3\n",
        "b=num%5\n",
        "if a==0 and b==0:\n",
        "  print(\"3과 5의 공배수\")\n",
        "elif a==0:\n",
        "  print(\"3의 배수\")\n",
        "elif b==0:\n",
        "  print(\"5의 배수\")\n",
        "elif num<1 and num>100:\n",
        "  print(\"1~100사이의 숫자를 입력하세요.\")\n",
        "else:\n",
        "  print(num)"
      ],
      "metadata": {
        "colab": {
          "base_uri": "https://localhost:8080/"
        },
        "id": "FFn7zMRYHG2k",
        "outputId": "8c7854eb-92c5-41ea-d4e8-d01bf482a9f8"
      },
      "execution_count": null,
      "outputs": [
        {
          "output_type": "stream",
          "name": "stdout",
          "text": [
            "숫자를 입력하세요. : 101\n",
            "3의 배수\n"
          ]
        }
      ]
    },
    {
      "cell_type": "markdown",
      "source": [
        "- 사용자로부터 숫자를 계속 입력받다가\n",
        "s or S를 입력하면 합계출력"
      ],
      "metadata": {
        "id": "uyk4fXdNUaz0"
      }
    },
    {
      "cell_type": "code",
      "source": [
        "c=0\n",
        "\n",
        "d= 1\n",
        "\n",
        "while (d==1):\n",
        "  a = (input())\n",
        "  if (a==\"s\" or a==\"S\"):\n",
        "    d=0\n",
        "  else:\n",
        "    a = int(a)\n",
        "    c +=a\n",
        "print(c)"
      ],
      "metadata": {
        "colab": {
          "base_uri": "https://localhost:8080/"
        },
        "id": "WVOpeL2ZHHB4",
        "outputId": "16045b7b-6201-4b2a-e68c-10ed33d567d6"
      },
      "execution_count": null,
      "outputs": [
        {
          "output_type": "stream",
          "name": "stdout",
          "text": [
            "1\n",
            "2\n",
            "3\n",
            "4\n",
            "5\n",
            "6\n",
            "7\n",
            "8\n",
            "9\n",
            "10\n",
            "s\n",
            "55\n"
          ]
        }
      ]
    },
    {
      "cell_type": "markdown",
      "source": [
        "연습문제 8"
      ],
      "metadata": {
        "id": "RSzB7kllZ502"
      }
    },
    {
      "cell_type": "code",
      "source": [
        "kor_score = [39,69,20,100,80]\n",
        "math_score = [32,59,85,30,90]\n",
        "eng_score = [49,70,48,60,100]\n",
        "midterm_score = [kor_score,math_score,eng_score]\n",
        "\n",
        "a_midterm_score = int((kor_score[0] + math_score[0] + eng_score[0]) / 3)\n",
        "a = a_midterm_score\n",
        "person_score = [\n",
        "    [\"사람1\", a]\n",
        "]\n",
        "print(person_score)"
      ],
      "metadata": {
        "colab": {
          "base_uri": "https://localhost:8080/"
        },
        "id": "LV9GFr9mHHJc",
        "outputId": "fa21a130-7951-4c68-f66b-a55b05ab0310"
      },
      "execution_count": null,
      "outputs": [
        {
          "output_type": "stream",
          "name": "stdout",
          "text": [
            "[['사람1', 40]]\n"
          ]
        }
      ]
    },
    {
      "cell_type": "code",
      "source": [
        "student_score = [0,0,0,0,0]\n",
        "i = 0\n",
        "for subject in midterm_score: #kor\n",
        "  for score in subject:\n",
        "    student_score[i]+=score\n",
        "    i+=1\n",
        "  i=0\n",
        "else:\n",
        "  a,b,c,d,e = student_score\n",
        "  student_average = [a/3,b/3,c/3,d/3,e/3]\n",
        "  print(student_average)"
      ],
      "metadata": {
        "colab": {
          "base_uri": "https://localhost:8080/"
        },
        "id": "BIRst1HJHHOX",
        "outputId": "856a7335-2553-45ac-9caf-f2cff599cf98"
      },
      "execution_count": null,
      "outputs": [
        {
          "output_type": "stream",
          "name": "stdout",
          "text": [
            "[40.0, 66.0, 51.0, 63.333333333333336, 90.0]\n"
          ]
        }
      ]
    },
    {
      "cell_type": "code",
      "source": [],
      "metadata": {
        "id": "SDErcTmiHHZt"
      },
      "execution_count": null,
      "outputs": []
    }
  ]
}