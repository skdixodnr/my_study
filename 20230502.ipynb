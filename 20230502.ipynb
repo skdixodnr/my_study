{
  "cells": [
    {
      "cell_type": "markdown",
      "metadata": {
        "id": "view-in-github",
        "colab_type": "text"
      },
      "source": [
        "<a href=\"https://colab.research.google.com/github/skdixodnr/my_study/blob/main/20230502.ipynb\" target=\"_parent\"><img src=\"https://colab.research.google.com/assets/colab-badge.svg\" alt=\"Open In Colab\"/></a>"
      ]
    },
    {
      "cell_type": "code",
      "execution_count": null,
      "metadata": {
        "colab": {
          "base_uri": "https://localhost:8080/"
        },
        "id": "AiZo81wt6SZ2",
        "outputId": "a7b4f85b-a593-40ed-928e-87cdd9a30b2e"
      },
      "outputs": [
        {
          "name": "stdout",
          "output_type": "stream",
          "text": [
            "[1, 2, 3, 4, 5]\n",
            "[1, 3, 2, 4, 5]\n",
            "[1, 2, 3, 4, 5]\n"
          ]
        }
      ],
      "source": [
        "def swap_value(x, y):\n",
        "  temp = x\n",
        "  x = y\n",
        "  y = temp\n",
        "\n",
        "def swap_offset(offset_x,offset_y):\n",
        "  temp = a[offset_x]\n",
        "  a[offset_x] = a[offset_y]\n",
        "  a[offset_y] = temp\n",
        "\n",
        "def swap_reference(list, offset_x,offset_y):\n",
        "  temp = list[offset_x]\n",
        "  list[offset_x] = list[offset_y]\n",
        "  list[offset_y] = temp\n",
        "\n",
        "a =[1,2,3,4,5]\n",
        "swap_value(a[1],a[2])\n",
        "print(a)\n",
        "swap_offset(1,2)\n",
        "print(a)\n",
        "swap_reference(a,1,2)\n",
        "print(a)"
      ]
    },
    {
      "cell_type": "markdown",
      "metadata": {
        "id": "KuxGfl1c9hOL"
      },
      "source": [
        "- 이 함수는 두개의 숫자를 input으로 받으면 작은 수로 큰 수를 나눈 몫과 나머지를 반환하는 함수이다.\n",
        "- 반환 값은 튜플로 되어 있으며 몫,나머지 순으로 되어 있다.\n",
        "- 단,0으로 나누는 것을 불가하기 때문에 두 수 중에 작은 수가 0이라면 화면에\"0은 사용할 수 없습니다.\"라고 출력하고 종료되어야한다."
      ]
    },
    {
      "cell_type": "code",
      "execution_count": null,
      "metadata": {
        "colab": {
          "base_uri": "https://localhost:8080/"
        },
        "id": "HGQLtieB6uLE",
        "outputId": "dff9529c-2cba-4ff2-b619-5c6d0b96e1d3"
      },
      "outputs": [
        {
          "name": "stdout",
          "output_type": "stream",
          "text": [
            "(0, -1)\n"
          ]
        }
      ],
      "source": [
        "def div(n1, n2):\n",
        "  t1 = n2//n1, n2%n1\n",
        "  t2 = n1//n2, n1%n2\n",
        "  if n1<n2:\n",
        "    print(t1[0:2])\n",
        "  elif n1 == 0 or n2 == 0:\n",
        "    print(\"0은 사용할 수 없습니다.\")\n",
        "  else:\n",
        "    print(t2[0:2])\n",
        "\n",
        "div(-1,-5)\n"
      ]
    },
    {
      "cell_type": "code",
      "execution_count": null,
      "metadata": {
        "colab": {
          "base_uri": "https://localhost:8080/"
        },
        "id": "bUtholykAD7y",
        "outputId": "b32d9ca7-6a79-42d1-d831-ea0f236c1538"
      },
      "outputs": [
        {
          "name": "stdout",
          "output_type": "stream",
          "text": [
            "(4, 1)\n"
          ]
        }
      ],
      "source": [
        "# 답안\n",
        "def div3(a,b):\n",
        "  if a<b:\n",
        "    big=b\n",
        "    small=a\n",
        "  elif b<=a:\n",
        "    big=a\n",
        "    small=b\n",
        "  else:\n",
        "    print(\"정수가 아닙니다.\")\n",
        "  if small==0:\n",
        "    print(\"0은 사용할 수 없습니다.\")\n",
        "  elif abs(big)<0 or abs(small)<0:\n",
        "    print(\"정수를 입력해주세요.\")\n",
        "  else:\n",
        "    q= big//small\n",
        "    r= big%small\n",
        "    return (q,r)\n",
        "div(9,2)"
      ]
    },
    {
      "cell_type": "markdown",
      "metadata": {
        "id": "h7d4qUF_F6Qs"
      },
      "source": [
        "- 어떠한 string을 받으면 일정한 단위로 끊어서 화면에 출력하는 함수를 짜보자.\n",
        "- 끊는 단위는 따로 정하지 않으면 2로 설정해보자.\n",
        "- 힌트 : input을 string과 unit = 2로 받고,while을 사용하고, 길이는 len 함수를 사용하도록 하자."
      ]
    },
    {
      "cell_type": "code",
      "execution_count": null,
      "metadata": {
        "id": "uRsjHjInGEqM"
      },
      "outputs": [],
      "source": [
        "def func(string, unit=2):\n",
        "  i=0\n",
        "  while i<len(string):\n",
        "    print(string[i:i+unit])\n",
        "    i +=unit\n",
        "func(\"테스트를 위한 문장입니다.\")"
      ]
    },
    {
      "cell_type": "code",
      "execution_count": null,
      "metadata": {
        "id": "biaNMT_sIPdm"
      },
      "outputs": [],
      "source": [
        "def test(*args):\n",
        "  print(args)\n",
        "test(1,2,3,4,5,6,7,8,9,10)\n",
        "test([1,2],3)\n",
        "test([1,2])"
      ]
    },
    {
      "cell_type": "markdown",
      "metadata": {
        "id": "Hl85nc9dI_qk"
      },
      "source": [
        "- add_all 함수를 짜봅시다"
      ]
    },
    {
      "cell_type": "code",
      "execution_count": null,
      "metadata": {
        "colab": {
          "base_uri": "https://localhost:8080/"
        },
        "id": "h2gHsHwlJOPR",
        "outputId": "60b73676-1f3e-4e18-dc4b-00e861e11838"
      },
      "outputs": [
        {
          "output_type": "stream",
          "name": "stdout",
          "text": [
            "55\n"
          ]
        }
      ],
      "source": [
        "def add_all(*args):\n",
        "  result = 0\n",
        "  for i in args:\n",
        "    result += i\n",
        "  return result\n",
        "result1 = add_all(1, 2, 3, 4, 5, 6, 7, 8, 9, 10)\n",
        "print(result1)"
      ]
    },
    {
      "cell_type": "code",
      "execution_count": null,
      "metadata": {
        "id": "XZARo1tSLWpc",
        "colab": {
          "base_uri": "https://localhost:8080/"
        },
        "outputId": "5cd59a27-9c15-436f-976e-7a8b6f0e0feb"
      },
      "outputs": [
        {
          "output_type": "stream",
          "name": "stdout",
          "text": [
            "55\n"
          ]
        }
      ],
      "source": [
        "def add_all(*inputs):\n",
        "  s=0\n",
        "  for i in range(len(inputs)):\n",
        "    s +=inputs[i]\n",
        "  return s\n",
        "result1 = add_all(1, 2, 3, 4, 5, 6, 7, 8, 9, 10)\n",
        "print(result1)"
      ]
    },
    {
      "cell_type": "code",
      "execution_count": null,
      "metadata": {
        "colab": {
          "base_uri": "https://localhost:8080/"
        },
        "id": "AGU36Pf3Ll5B",
        "outputId": "402e2cad-2529-4ba3-9c86-449fd7754615"
      },
      "outputs": [
        {
          "output_type": "execute_result",
          "data": {
            "text/plain": [
              "55"
            ]
          },
          "metadata": {},
          "execution_count": 18
        }
      ],
      "source": [
        "def add_all(*inputs):\n",
        "  return sum(inputs)\n",
        "\n",
        "add_all(1, 2, 3, 4, 5, 6, 7, 8, 9, 10)"
      ]
    },
    {
      "cell_type": "code",
      "execution_count": null,
      "metadata": {
        "colab": {
          "base_uri": "https://localhost:8080/"
        },
        "id": "hQy_Xap4MD5L",
        "outputId": "14d196f1-baed-4ed3-c3cc-1b04eff20a7c"
      },
      "outputs": [
        {
          "output_type": "execute_result",
          "data": {
            "text/plain": [
              "55"
            ]
          },
          "metadata": {},
          "execution_count": 21
        }
      ],
      "source": [
        "def add_all3(*args):\n",
        "    s=0\n",
        "    for i in args:\n",
        "      for j in i:\n",
        "        s +=j\n",
        "      return s\n",
        "\n",
        "add_all3([1, 2, 3, 4, 5, 6, 7, 8, 9, 10])"
      ]
    },
    {
      "cell_type": "code",
      "execution_count": null,
      "metadata": {
        "colab": {
          "base_uri": "https://localhost:8080/"
        },
        "id": "6wq3CXTUZ-VJ",
        "outputId": "4b7ecee1-6bb6-49ce-ed29-7c5fcdb99090"
      },
      "outputs": [
        {
          "output_type": "execute_result",
          "data": {
            "text/plain": [
              "array([-3, -2, -1,  0,  1,  2])"
            ]
          },
          "metadata": {},
          "execution_count": 2
        }
      ],
      "source": [
        "import numpy as np\n",
        "np.arange(-3,3)"
      ]
    },
    {
      "cell_type": "code",
      "execution_count": null,
      "metadata": {
        "colab": {
          "base_uri": "https://localhost:8080/"
        },
        "id": "F-kTGO_tZ7-U",
        "outputId": "d833b591-02b7-4891-8824-fc3d96073028"
      },
      "outputs": [
        {
          "data": {
            "text/plain": [
              "array([ 3,  6,  9, 12, 15, 18, 21, 24, 27, 30, 33, 36, 39, 42, 45, 48])"
            ]
          },
          "execution_count": 2,
          "metadata": {},
          "output_type": "execute_result"
        }
      ],
      "source": [
        "np.arange(3,50,3)"
      ]
    },
    {
      "cell_type": "code",
      "execution_count": null,
      "metadata": {
        "colab": {
          "base_uri": "https://localhost:8080/"
        },
        "id": "bXZtugd2Z8PV",
        "outputId": "807f1ab1-b319-4a83-dae5-dd07ef826497"
      },
      "outputs": [
        {
          "data": {
            "text/plain": [
              "array([0. , 0.2, 0.4, 0.6, 0.8, 1. ])"
            ]
          },
          "execution_count": 24,
          "metadata": {},
          "output_type": "execute_result"
        }
      ],
      "source": [
        "np.linspace(0,1,6) # 0 부터 1 까지 6번 쪼갠다"
      ]
    },
    {
      "cell_type": "markdown",
      "metadata": {
        "id": "e2PdRAcYjdUt"
      },
      "source": [
        "- 배열 결합 함수\n",
        "  - hstack,concatenate(axis=0)\n",
        "  - 두 배열을 왼쪽에서 오른쪽으로 붙이기."
      ]
    },
    {
      "cell_type": "code",
      "execution_count": null,
      "metadata": {
        "id": "xzDhR_6jZ8T5"
      },
      "outputs": [],
      "source": [
        "a = np.array([1,2,3])\n",
        "b = np.array([4,5,6])"
      ]
    },
    {
      "cell_type": "code",
      "execution_count": null,
      "metadata": {
        "colab": {
          "base_uri": "https://localhost:8080/"
        },
        "id": "saGzO2u1Z8Xm",
        "outputId": "c256df30-7246-41a0-ac26-58c5f45fb76a"
      },
      "outputs": [
        {
          "output_type": "execute_result",
          "data": {
            "text/plain": [
              "array([1, 2, 3, 4, 5, 6])"
            ]
          },
          "metadata": {},
          "execution_count": 4
        }
      ],
      "source": [
        "np.hstack([a,b])"
      ]
    },
    {
      "cell_type": "code",
      "execution_count": null,
      "metadata": {
        "colab": {
          "base_uri": "https://localhost:8080/"
        },
        "id": "Rnz07u5dZ8cL",
        "outputId": "a952d40b-d252-4d49-a310-7765fb3e7a3f"
      },
      "outputs": [
        {
          "output_type": "execute_result",
          "data": {
            "text/plain": [
              "array([1, 2, 3, 4, 5, 6])"
            ]
          },
          "metadata": {},
          "execution_count": 5
        }
      ],
      "source": [
        "np.concatenate((a,b),axis=0)"
      ]
    },
    {
      "cell_type": "code",
      "execution_count": null,
      "metadata": {
        "colab": {
          "base_uri": "https://localhost:8080/"
        },
        "id": "Pbs5dyRLZ8fn",
        "outputId": "1e756610-ab0b-4689-f7e5-54d4ad1cc6d8"
      },
      "outputs": [
        {
          "output_type": "execute_result",
          "data": {
            "text/plain": [
              "array([[1, 2, 5, 6],\n",
              "       [3, 4, 7, 8]])"
            ]
          },
          "metadata": {},
          "execution_count": 6
        }
      ],
      "source": [
        "a = np.array([[1,2],[3,4]])\n",
        "b = np.array([[5,6],[7,8]])\n",
        "\n",
        "np.hstack([a,b])"
      ]
    },
    {
      "cell_type": "code",
      "execution_count": null,
      "metadata": {
        "colab": {
          "base_uri": "https://localhost:8080/"
        },
        "id": "ZTZiLHNpZ8jW",
        "outputId": "1714cd46-e195-4b44-cbbb-df0d45828446"
      },
      "outputs": [
        {
          "data": {
            "text/plain": [
              "array([[1, 2],\n",
              "       [3, 4],\n",
              "       [5, 6],\n",
              "       [7, 8]])"
            ]
          },
          "execution_count": 7,
          "metadata": {},
          "output_type": "execute_result"
        }
      ],
      "source": [
        "np.concatenate((a,b),axis=0)"
      ]
    },
    {
      "cell_type": "markdown",
      "metadata": {
        "id": "jUOmkz9oko92"
      },
      "source": [
        "- vstack(vertical),concatenate(axis=1)"
      ]
    },
    {
      "cell_type": "code",
      "execution_count": null,
      "metadata": {
        "id": "wnY5djXHZ8nb"
      },
      "outputs": [],
      "source": [
        "a = np.array([1,2,3])\n",
        "b = np.array([4,5,6])"
      ]
    },
    {
      "cell_type": "code",
      "execution_count": null,
      "metadata": {
        "colab": {
          "base_uri": "https://localhost:8080/"
        },
        "id": "iRungS2hZ8rO",
        "outputId": "85afdfa5-5a45-42a0-df01-6fe353e84576"
      },
      "outputs": [
        {
          "data": {
            "text/plain": [
              "array([[1, 2, 3],\n",
              "       [4, 5, 6]])"
            ]
          },
          "execution_count": 19,
          "metadata": {},
          "output_type": "execute_result"
        }
      ],
      "source": [
        "np.vstack([a,b])"
      ]
    },
    {
      "cell_type": "code",
      "execution_count": null,
      "metadata": {
        "id": "acclj_PNZ8uq"
      },
      "outputs": [],
      "source": [
        "np.concatenate((a,b),axis=1) # 1D는 vector는 안됨."
      ]
    },
    {
      "cell_type": "code",
      "execution_count": null,
      "metadata": {
        "colab": {
          "base_uri": "https://localhost:8080/"
        },
        "id": "C0LUn-ooZ8xL",
        "outputId": "223700ac-7ac5-4243-fe92-2be53ca13109"
      },
      "outputs": [
        {
          "data": {
            "text/plain": [
              "array([[ 0,  1,  2,  6,  7,  8],\n",
              "       [ 3,  4,  5,  9, 10, 11]])"
            ]
          },
          "execution_count": 20,
          "metadata": {},
          "output_type": "execute_result"
        }
      ],
      "source": [
        "c = np.array([[0,1,2],[3,4,5]])\n",
        "d = np.array([[6,7,8],[9,10,11]])\n",
        "\n",
        "np.concatenate((c,d),axis=1)"
      ]
    },
    {
      "cell_type": "markdown",
      "metadata": {
        "id": "nrY8b9YHlx9g"
      },
      "source": [
        "- 두 배열을 위 아래로 붙이기."
      ]
    },
    {
      "cell_type": "code",
      "execution_count": null,
      "metadata": {
        "colab": {
          "base_uri": "https://localhost:8080/"
        },
        "id": "1vc-BMd6l4bF",
        "outputId": "71580ef2-68d8-4b89-c04a-2c3e428bab19"
      },
      "outputs": [
        {
          "data": {
            "text/plain": [
              "(array([1, 2, 3]), array([4, 5, 6]))"
            ]
          },
          "execution_count": 21,
          "metadata": {},
          "output_type": "execute_result"
        }
      ],
      "source": [
        "a,b"
      ]
    },
    {
      "cell_type": "code",
      "execution_count": null,
      "metadata": {
        "colab": {
          "base_uri": "https://localhost:8080/"
        },
        "id": "mUAfbzNKlVfv",
        "outputId": "af5024a9-ad12-453d-e4aa-029ba4e9b20f"
      },
      "outputs": [
        {
          "data": {
            "text/plain": [
              "array([[1, 4],\n",
              "       [2, 5],\n",
              "       [3, 6]])"
            ]
          },
          "execution_count": 22,
          "metadata": {},
          "output_type": "execute_result"
        }
      ],
      "source": [
        "np.column_stack([a,b])\n"
      ]
    },
    {
      "cell_type": "code",
      "execution_count": null,
      "metadata": {
        "id": "QUuGZTcElVqT"
      },
      "outputs": [],
      "source": [
        "import random\n",
        "import numpy as np"
      ]
    },
    {
      "cell_type": "code",
      "execution_count": null,
      "metadata": {
        "colab": {
          "base_uri": "https://localhost:8080/"
        },
        "id": "tPvPvj3RlVt3",
        "outputId": "07f0385b-8143-4780-c282-6a2703c46b75"
      },
      "outputs": [
        {
          "data": {
            "text/plain": [
              "0.307229960365891"
            ]
          },
          "execution_count": 28,
          "metadata": {},
          "output_type": "execute_result"
        }
      ],
      "source": [
        "random.random()  # 0<리턴값<=1"
      ]
    },
    {
      "cell_type": "code",
      "execution_count": null,
      "metadata": {
        "colab": {
          "base_uri": "https://localhost:8080/"
        },
        "id": "o1-ZjXj3lVw9",
        "outputId": "ba38e054-cd25-4f99-efbb-7e39344cad17"
      },
      "outputs": [
        {
          "data": {
            "text/plain": [
              "array([2, 5, 3])"
            ]
          },
          "execution_count": 31,
          "metadata": {},
          "output_type": "execute_result"
        }
      ],
      "source": [
        "data = [1,2,3,4,5,6,7]\n",
        "\n",
        "np.random.choice(data,3)"
      ]
    },
    {
      "cell_type": "code",
      "execution_count": null,
      "metadata": {
        "colab": {
          "base_uri": "https://localhost:8080/",
          "height": 35
        },
        "id": "xYvfZj_ClV0F",
        "outputId": "ebc7caa4-c77f-4a96-bdb0-78b19fb56d09"
      },
      "outputs": [
        {
          "data": {
            "application/vnd.google.colaboratory.intrinsic+json": {
              "type": "string"
            },
            "text/plain": [
              "'banana'"
            ]
          },
          "execution_count": 32,
          "metadata": {},
          "output_type": "execute_result"
        }
      ],
      "source": [
        "data = [\"apple\", \"banana\", \"grape\", \"orange\"]\n",
        "\n",
        "random.choice(data)"
      ]
    },
    {
      "cell_type": "markdown",
      "metadata": {
        "id": "CJZuz1udne5-"
      },
      "source": [
        "- seed\n",
        "  - 난수 초기값부여 -> 재현 가능성(Reporducibility)"
      ]
    },
    {
      "cell_type": "code",
      "execution_count": null,
      "metadata": {
        "id": "XeJAWsSRlV3Y"
      },
      "outputs": [],
      "source": [
        "np.random.seed(42)"
      ]
    },
    {
      "cell_type": "code",
      "execution_count": null,
      "metadata": {
        "id": "_oAhckYElV6_"
      },
      "outputs": [],
      "source": [
        "np.random.rand(100)"
      ]
    },
    {
      "cell_type": "markdown",
      "metadata": {
        "id": "4dECGPhgoBWO"
      },
      "source": [
        "- 로또 번호 생성기를 만드세요."
      ]
    },
    {
      "cell_type": "code",
      "execution_count": null,
      "metadata": {
        "id": "tV0E7x8LlV9u"
      },
      "outputs": [],
      "source": [
        "import numpy as np\n",
        "import random\n",
        "def make_lotto(count):\n",
        "  for i in range(count):\n",
        "    lotto_num = [] # 로또 번호가 담길 리스트형 변수\n",
        "    for j in range(6): # 6번 반복\n",
        "      lotto_num = np.random.choice(range(1,46),6,replace=False) # replace=False -> 중복추출\n",
        "      lotto_num.sort()\n",
        "    print('{}.로또번호:{}'.format(i+1,lotto_num))\n"
      ]
    },
    {
      "cell_type": "code",
      "execution_count": null,
      "metadata": {
        "colab": {
          "base_uri": "https://localhost:8080/"
        },
        "id": "vVRY1dolsfQS",
        "outputId": "f0fa502b-a980-4df7-8290-a867ba972193"
      },
      "outputs": [
        {
          "output_type": "stream",
          "name": "stdout",
          "text": [
            "로또 번호를 몇개 몇개 생성할까요?16\n",
            "1.로또번호:[ 8 10 21 29 39 45]\n",
            "2.로또번호:[ 1  5 17 21 24 39]\n",
            "3.로또번호:[ 4 29 30 37 43 44]\n",
            "4.로또번호:[ 8 25 32 38 42 44]\n",
            "5.로또번호:[ 2  4  5 28 35 37]\n",
            "6.로또번호:[13 28 29 31 35 42]\n",
            "7.로또번호:[ 1  2  5 17 31 39]\n",
            "8.로또번호:[ 8 12 19 21 33 39]\n",
            "9.로또번호:[ 3  5  6 33 34 44]\n",
            "10.로또번호:[ 7 12 23 27 33 42]\n",
            "11.로또번호:[ 5 10 11 14 30 45]\n",
            "12.로또번호:[ 4 25 29 35 39 41]\n",
            "13.로또번호:[14 33 35 36 42 45]\n",
            "14.로또번호:[ 1  4 16 22 25 32]\n",
            "15.로또번호:[ 1 16 18 29 31 32]\n",
            "16.로또번호:[ 2  7 12 13 22 28]\n"
          ]
        }
      ],
      "source": [
        "count = int(input('로또 번호를 몇개 몇개 생성할까요?'))\n",
        "make_lotto(count)"
      ]
    },
    {
      "cell_type": "code",
      "execution_count": null,
      "metadata": {
        "id": "YghrW4ZgsfZy"
      },
      "outputs": [],
      "source": [
        "def add_all(*args):\n",
        "  "
      ]
    }
  ],
  "metadata": {
    "colab": {
      "provenance": [],
      "toc_visible": true,
      "authorship_tag": "ABX9TyPpANwNnXDfvKEfIjsMbm2U",
      "include_colab_link": true
    },
    "kernelspec": {
      "display_name": "Python 3",
      "name": "python3"
    },
    "language_info": {
      "name": "python"
    }
  },
  "nbformat": 4,
  "nbformat_minor": 0
}